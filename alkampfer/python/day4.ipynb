{
 "cells": [
  {
   "cell_type": "code",
   "execution_count": null,
   "metadata": {},
   "outputs": [],
   "source": [
    "# Open the file\n",
    "with open('04.txt', 'r') as file:\n",
    "    # Read lines from the file\n",
    "    lines = file.readlines()\n",
    "\n",
    "total = 0\n",
    "# Process each line\n",
    "for line in lines:\n",
    "    # Split the line into card number and the two parts by ':'\n",
    "    card_number, parts = line.split(':')\n",
    "    \n",
    "    # Split the parts into two lists by '|'\n",
    "    list_parts = parts.split('|')\n",
    "    \n",
    "    # Convert each part into a list of integers\n",
    "    list1 = list(map(int, list_parts[0].split()))\n",
    "    list2 = list(map(int, list_parts[1].split()))\n",
    "    \n",
    "    # Calculate the intersection of the two lists\n",
    "    intersection = list(set(list1) & set(list2))\n",
    "    \n",
    "    # Count the number of elements in the intersection\n",
    "    count = len(intersection)\n",
    "    \n",
    "    # Calculate 2 raised to the power of the count\n",
    "    if (count > 0):\n",
    "        result = 2 ** (count - 1)\n",
    "    \n",
    "        # Print the result\n",
    "        # print(f'Card {card_number.strip()}: {result}')\n",
    "        total += result\n",
    "\n",
    "print(f'Total: {total}')"
   ]
  },
  {
   "cell_type": "code",
   "execution_count": null,
   "metadata": {},
   "outputs": [],
   "source": [
    "# Open the file\n",
    "with open('04.txt', 'r') as file:\n",
    "    # Read lines from the file\n",
    "    lines = file.readlines()\n",
    "\n",
    "# Create an array for each lines initialized to zero\n",
    "count = [1] * len(lines)\n",
    "\n",
    "# Process each line\n",
    "current_line = 0\n",
    "for line in lines:\n",
    "    # Split the line into card number and the two parts by ':'\n",
    "    card_number, parts = line.split(':')\n",
    "    \n",
    "    # Split the parts into two lists by '|'\n",
    "    list_parts = parts.split('|')\n",
    "    \n",
    "    # Convert each part into a list of integers\n",
    "    list1 = list(map(int, list_parts[0].split()))\n",
    "    list2 = list(map(int, list_parts[1].split()))\n",
    "    \n",
    "    # Calculate the intersection of the two lists\n",
    "    intersection = list(set(list1) & set(list2))\n",
    "    \n",
    "    # Count the number of elements in the intersection\n",
    "    count_of_intersection = len(intersection)\n",
    "    \n",
    "    # Calculate 2 raised to the power of the count\n",
    "    if (count_of_intersection > 0):\n",
    "        # ok we have a match, so we need to increment the number of subsequents card by one\n",
    "        for i in range(current_line + 1, min(current_line + count_of_intersection + 1, len(lines))):\n",
    "            count[i] += 1 * count[current_line]\n",
    "\n",
    "    current_line += 1\n",
    "print (count)\n",
    "total = sum(count)\n",
    "print(total)\n"
   ]
  },
  {
   "cell_type": "code",
   "execution_count": null,
   "metadata": {},
   "outputs": [],
   "source": []
  }
 ],
 "metadata": {
  "kernelspec": {
   "display_name": "Python 3",
   "language": "python",
   "name": "python3"
  },
  "language_info": {
   "codemirror_mode": {
    "name": "ipython",
    "version": 3
   },
   "file_extension": ".py",
   "mimetype": "text/x-python",
   "name": "python",
   "nbconvert_exporter": "python",
   "pygments_lexer": "ipython3",
   "version": "3.10.11"
  }
 },
 "nbformat": 4,
 "nbformat_minor": 2
}
