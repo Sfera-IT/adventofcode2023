{
 "cells": [
  {
   "cell_type": "markdown",
   "metadata": {},
   "source": [
    "# Both solution in 1"
   ]
  },
  {
   "cell_type": "code",
   "execution_count": 18,
   "metadata": {},
   "outputs": [
    {
     "name": "stdout",
     "output_type": "stream",
     "text": [
      "Solution 1: 26218\n",
      "Solution 2: 9997537\n"
     ]
    }
   ],
   "source": [
    "# both\n",
    "file = open(\"./input.txt\")\n",
    "lines = file.readlines()\n",
    "\n",
    "totals = []\n",
    "totals2 = []\n",
    "\n",
    "for x in range(0,len(lines)):\n",
    "    totals2.append([0,0])\n",
    "\n",
    "current = 0\n",
    "for line in lines:\n",
    "    # both\n",
    "    elements = line.replace(\"\\n\", \"\").split(\":\")[1].split(\"|\")\n",
    "\n",
    "    winning_numbers = list(filter(lambda x: (x != \"\"), elements[0].split(\" \")))\n",
    "    my_numbers = list(filter(lambda x: (x != \"\"), elements[1].split(\" \")))\n",
    "\n",
    "    winning = 0\n",
    "    for number in my_numbers:\n",
    "        if number in winning_numbers:\n",
    "            winning += 1\n",
    "    \n",
    "    # solution 1\n",
    "    if (winning >= 1):\n",
    "        totals.append(pow(2,(winning-1)))\n",
    "\n",
    "    # solution 2\n",
    "    totals2[current][0] = winning\n",
    "    repeat = totals2[current][1]\n",
    "\n",
    "    for i in range(0,winning+1):\n",
    "        totals2[current+i][1] += 1\n",
    "\n",
    "    for r in range(0,repeat):\n",
    "        for i in range(1,winning+1):\n",
    "            totals2[current+i][1] += 1\n",
    "\n",
    "    current += 1\n",
    "    \n",
    "solution2 = sum(map(lambda x: x[1], totals2))\n",
    "print(\"Solution 1:\", sum(totals))\n",
    "print(\"Solution 2:\", solution2)"
   ]
  },
  {
   "cell_type": "markdown",
   "metadata": {},
   "source": [
    "# separated solutions"
   ]
  },
  {
   "cell_type": "code",
   "execution_count": 19,
   "metadata": {},
   "outputs": [
    {
     "name": "stdout",
     "output_type": "stream",
     "text": [
      "Solution 1: 26218\n"
     ]
    }
   ],
   "source": [
    "file = open(\"./input.txt\")\n",
    "lines = file.readlines()\n",
    "\n",
    "totals = []\n",
    "for line in lines:\n",
    "    elements = line.replace(\"\\n\", \"\").split(\":\")[1].split(\"|\")\n",
    "\n",
    "    winning_numbers = list(filter(lambda x: (x != \"\"), elements[0].split(\" \")))\n",
    "    my_numbers = list(filter(lambda x: (x != \"\"), elements[1].split(\" \")))\n",
    "\n",
    "    winning = 0\n",
    "    for number in my_numbers:\n",
    "        if number in winning_numbers:\n",
    "            winning += 1\n",
    "    \n",
    "    if (winning >= 1):\n",
    "        totals.append(pow(2,(winning-1)))\n",
    "    \n",
    "print(\"Solution 1:\", sum(totals))"
   ]
  },
  {
   "cell_type": "code",
   "execution_count": 20,
   "metadata": {},
   "outputs": [
    {
     "name": "stdout",
     "output_type": "stream",
     "text": [
      "Solution 2: 9997537\n"
     ]
    }
   ],
   "source": [
    "\n",
    "\n",
    "totals = []\n",
    "\n",
    "for x in range(0,len(lines)):\n",
    "    totals.append([0,0])\n",
    "\n",
    "current = 0\n",
    "for line in lines:\n",
    "    elements = line.replace(\"\\n\", \"\").split(\":\")[1].split(\"|\")\n",
    "\n",
    "    winning_numbers = list(filter(lambda x: (x != \"\"), elements[0].split(\" \")))\n",
    "    my_numbers = list(filter(lambda x: (x != \"\"), elements[1].split(\" \")))\n",
    "\n",
    "    winning = 0\n",
    "    for number in my_numbers:\n",
    "        if number in winning_numbers:\n",
    "            winning += 1\n",
    "\n",
    "    totals[current][0] = winning\n",
    "    repeat = totals[current][1]\n",
    "\n",
    "    for i in range(0,winning+1):\n",
    "        totals[current+i][1] += 1\n",
    "\n",
    "    for r in range(0,repeat):\n",
    "        for i in range(1,winning+1):\n",
    "            totals[current+i][1] += 1\n",
    "\n",
    "    current += 1\n",
    "\n",
    "solution = sum(map(lambda x: x[1], totals))\n",
    "    \n",
    "print(\"Solution 2:\", solution)"
   ]
  }
 ],
 "metadata": {
  "kernelspec": {
   "display_name": ".venv",
   "language": "python",
   "name": "python3"
  },
  "language_info": {
   "codemirror_mode": {
    "name": "ipython",
    "version": 3
   },
   "file_extension": ".py",
   "mimetype": "text/x-python",
   "name": "python",
   "nbconvert_exporter": "python",
   "pygments_lexer": "ipython3",
   "version": "3.11.6"
  }
 },
 "nbformat": 4,
 "nbformat_minor": 2
}
