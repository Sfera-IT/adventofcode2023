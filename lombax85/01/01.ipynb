{
 "cells": [
  {
   "cell_type": "markdown",
   "metadata": {},
   "source": [
    "The newly-improved calibration document consists of lines of text; each line originally contained a specific calibration value that the Elves now need to recover. On each line, the calibration value can be found by combining the first digit and the last digit (in that order) to form a single two-digit number.\n",
    "\n",
    "For example:\n",
    "\n",
    "1abc2\n",
    "pqr3stu8vwx\n",
    "a1b2c3d4e5f\n",
    "treb7uchet\n",
    "\n",
    "\n",
    "In this example, the calibration values of these four lines are 12, 38, 15, and 77. Adding these together produces 142."
   ]
  },
  {
   "cell_type": "code",
   "execution_count": 4,
   "metadata": {},
   "outputs": [],
   "source": [
    "input = open(\"./01.txt\", \"r\")\n",
    "lines = []\n",
    "lines_2 = []\n",
    "for line in input.readlines():\n",
    "    lines.append(line.replace(\"\\n\", \"\"))\n",
    "    lines_2.append(line.replace(\"\\n\", \"\"))\n"
   ]
  },
  {
   "cell_type": "code",
   "execution_count": 5,
   "metadata": {},
   "outputs": [
    {
     "name": "stdout",
     "output_type": "stream",
     "text": [
      "Solution 1 is:\n",
      "[29, 99, 73, 77, 69, 55, 13, 66, 62, 77, 24, 36, 93, 55, 99, 44, 33, 86, 19, 33, 33, 33, 38, 11, 95, 66, 13, 25, 33, 11, 82, 33, 38, 34, 44, 99, 55, 13, 64, 66, 11, 78, 11, 95, 22, 77, 33, 39, 66, 78, 85, 97, 55, 84, 99, 47, 98, 66, 94, 12, 63, 71, 78, 66, 55, 29, 37, 67, 74, 33, 22, 44, 59, 55, 77, 22, 99, 22, 68, 88, 64, 32, 88, 52, 62, 76, 93, 78, 53, 51, 22, 55, 11, 83, 77, 75, 27, 55, 66, 21, 55, 59, 44, 21, 27, 11, 53, 36, 11, 66, 78, 67, 62, 82, 55, 86, 99, 27, 52, 37, 48, 22, 55, 14, 42, 83, 86, 81, 78, 87, 17, 77, 19, 54, 87, 91, 93, 77, 11, 91, 96, 95, 21, 99, 66, 22, 42, 44, 99, 56, 77, 26, 33, 48, 11, 71, 99, 99, 66, 22, 96, 97, 43, 74, 74, 72, 77, 14, 79, 22, 58, 76, 33, 55, 75, 64, 99, 66, 77, 33, 55, 63, 12, 77, 66, 54, 96, 99, 84, 85, 81, 76, 99, 12, 96, 82, 59, 93, 88, 55, 44, 69, 57, 53, 68, 24, 23, 77, 13, 93, 95, 78, 44, 12, 99, 87, 65, 88, 77, 79, 96, 39, 35, 88, 42, 92, 73, 99, 44, 68, 69, 77, 12, 39, 77, 91, 45, 66, 94, 55, 83, 57, 88, 47, 42, 15, 56, 22, 51, 55, 59, 99, 75, 43, 62, 36, 86, 12, 46, 41, 48, 13, 77, 84, 26, 43, 34, 44, 64, 88, 53, 65, 55, 11, 71, 61, 81, 55, 44, 29, 44, 11, 87, 33, 25, 45, 95, 74, 53, 24, 14, 44, 91, 51, 88, 29, 55, 22, 33, 44, 77, 66, 75, 74, 22, 58, 99, 53, 72, 59, 77, 55, 88, 32, 53, 66, 95, 55, 68, 41, 99, 37, 42, 47, 33, 73, 88, 95, 84, 62, 21, 33, 77, 44, 77, 56, 55, 64, 32, 35, 93, 25, 18, 91, 31, 76, 51, 92, 22, 44, 44, 46, 44, 85, 22, 72, 99, 93, 27, 89, 85, 77, 55, 88, 44, 88, 66, 66, 45, 31, 88, 77, 44, 63, 62, 44, 88, 52, 56, 91, 74, 71, 25, 65, 26, 11, 44, 99, 88, 88, 11, 12, 44, 77, 49, 33, 11, 91, 33, 84, 33, 21, 98, 92, 55, 66, 46, 95, 19, 99, 56, 96, 22, 63, 44, 22, 17, 91, 22, 99, 11, 92, 91, 31, 77, 14, 66, 22, 47, 33, 11, 55, 22, 48, 22, 27, 67, 36, 87, 44, 79, 57, 12, 39, 44, 58, 81, 22, 68, 83, 41, 88, 61, 22, 87, 43, 43, 58, 36, 69, 55, 66, 23, 77, 12, 55, 88, 54, 55, 11, 11, 33, 89, 19, 44, 16, 11, 73, 84, 64, 99, 92, 54, 33, 47, 77, 77, 22, 63, 68, 44, 99, 18, 93, 11, 85, 22, 95, 88, 33, 73, 98, 97, 24, 83, 82, 75, 61, 18, 39, 93, 33, 61, 69, 22, 77, 66, 22, 88, 19, 99, 44, 67, 18, 77, 98, 14, 51, 44, 83, 66, 77, 17, 41, 31, 14, 64, 44, 17, 55, 47, 63, 82, 55, 22, 33, 88, 68, 88, 11, 17, 58, 66, 25, 63, 89, 47, 85, 66, 58, 69, 66, 33, 23, 29, 73, 97, 55, 44, 98, 37, 44, 25, 77, 22, 44, 72, 47, 44, 54, 99, 27, 95, 52, 33, 99, 33, 81, 47, 87, 66, 77, 62, 67, 63, 55, 82, 14, 84, 99, 96, 63, 88, 66, 16, 38, 54, 82, 77, 95, 54, 13, 93, 11, 88, 11, 55, 66, 77, 41, 88, 33, 84, 82, 73, 94, 63, 67, 88, 55, 46, 76, 46, 49, 62, 14, 99, 12, 11, 23, 28, 81, 73, 17, 48, 44, 52, 57, 88, 77, 33, 14, 66, 43, 71, 33, 69, 33, 72, 99, 79, 66, 27, 32, 34, 54, 53, 53, 33, 67, 36, 51, 91, 83, 83, 33, 14, 22, 88, 11, 25, 29, 61, 11, 22, 12, 88, 77, 44, 62, 34, 33, 42, 47, 55, 99, 64, 56, 29, 77, 44, 22, 84, 48, 25, 99, 68, 77, 44, 22, 77, 21, 88, 81, 99, 24, 33, 99, 56, 88, 49, 69, 11, 22, 32, 75, 66, 55, 46, 99, 12, 94, 22, 86, 57, 29, 77, 61, 17, 55, 86, 99, 33, 22, 99, 33, 55, 26, 35, 99, 33, 48, 88, 88, 31, 32, 33, 48, 99, 62, 66, 83, 22, 33, 99, 38, 39, 33, 33, 55, 11, 44, 22, 65, 82, 26, 18, 88, 93, 11, 64, 11, 86, 21, 22, 77, 21, 56, 74, 53, 12, 93, 88, 77, 75, 71, 66, 66, 57, 36, 77, 22, 37, 38, 99, 26, 43, 25, 33, 37, 66, 92, 46, 76, 68, 18, 49, 35, 15, 27, 89, 66, 98, 77, 72, 85, 86, 97, 22, 65, 99, 44, 44, 67, 99, 89, 17, 26, 75, 77, 88, 33, 42, 88, 88, 53, 11, 19, 77, 77, 66, 11, 66, 55, 11, 77, 24, 19, 57, 77, 99, 22, 91, 88, 33, 11, 18, 43, 22, 74, 11, 11, 11, 81, 61, 88, 99, 63, 99, 56, 77, 85, 52, 11, 57, 45, 22, 32, 28, 34, 44, 78, 33, 61, 62, 21, 66, 22, 82, 52, 98, 92, 89, 11, 12, 44, 35, 99, 96, 77, 71, 29, 12, 16, 12, 89, 22, 33, 24, 21, 73, 69, 77, 67, 85, 45, 44, 22, 47, 16, 77, 26, 35, 22, 77, 39, 15, 37, 22, 11, 35, 44, 22, 22, 58, 11, 42, 84, 12, 99, 41, 79, 99, 34, 98, 49, 55, 56, 65, 22, 99, 49, 65, 69, 88, 86, 68, 44, 59, 36, 24, 77, 55, 68, 77, 61, 55, 45, 33, 66, 22, 71, 11, 38, 12, 72, 52, 55, 69, 94, 57, 87, 38, 42, 55, 71, 47, 77, 78, 38]\n"
     ]
    }
   ],
   "source": [
    "digits = []\n",
    "for line in lines:\n",
    "    all_digits = [digit for digit in line if digit.isdigit()]\n",
    "    digits.append(\n",
    "        int(str(all_digits[0]) + str(all_digits[-1]))\n",
    "    )\n",
    "\n",
    "# sum all elements in digits array\n",
    "print(\"Solution 1 is:\")\n",
    "print(digits)"
   ]
  },
  {
   "cell_type": "markdown",
   "metadata": {},
   "source": [
    "Your calculation isn't quite right. It looks like some of the digits are actually spelled out with letters: one, two, three, four, five, six, seven, eight, and nine also count as valid \"digits\".\n",
    "\n",
    "Equipped with this new information, you now need to find the real first and last digit on each line. For example:\n",
    "\n",
    "two1nine\n",
    "eightwothree\n",
    "abcone2threexyz\n",
    "xtwone3four\n",
    "4nineeightseven2\n",
    "zoneight234\n",
    "7pqrstsixteen\n",
    "In this example, the calibration values are 29, 83, 13, 24, 42, 14, and 76. Adding these together produces 281."
   ]
  },
  {
   "cell_type": "markdown",
   "metadata": {},
   "source": [
    "{'line': 'kxcxtnqsixseven2rnjncvbcbbrxhbgtwonine', 'digits': ['6', '7', '2', '2', '2']}  -  62 69\n",
    "{'line': '3eightsvqdbgcntv37twonine', 'digits': ['3', '8', '3', '3', '7', '2']}  -  32 39\n",
    "{'line': '4oneeighttwonine', 'digits': ['4', '1', '8', '2']}  -  42 49\n",
    "{'line': 'cfgcfone6', 'digits': ['6', '6']}  -  66 16"
   ]
  },
  {
   "cell_type": "code",
   "execution_count": 6,
   "metadata": {},
   "outputs": [
    {
     "name": "stdout",
     "output_type": "stream",
     "text": [
      "Solution 2 is:\n",
      "53221\n"
     ]
    }
   ],
   "source": [
    "letter_digits = {\n",
    "    '1': '1',\n",
    "    '2': '2',\n",
    "    '3': '3',\n",
    "    '4': '4',\n",
    "    '5' : '5',\n",
    "    '6' : '6',\n",
    "    '7' : '7',\n",
    "    '8' : '8',\n",
    "    '9' : '9',\n",
    "    'one' : '1',\n",
    "    'two' : '2',\n",
    "    'three' : '3',\n",
    "    'four' : '4',\n",
    "    'five' : '5',\n",
    "    'six' : '6',\n",
    "    'seven' : '7',\n",
    "    'eight' : '8',\n",
    "    'nine' : '9',\n",
    "\n",
    "}\n",
    "\n",
    "line_digits = []\n",
    "for line in lines_2:\n",
    "    word = \"\"\n",
    "    all_digits = []\n",
    "    i = 0\n",
    "    while i < len(line):\n",
    "        j = i + 1\n",
    "        while j < (len(line) + 1):\n",
    "            word = line[i:j]\n",
    "            partial_letter_digits = [key for key in letter_digits.keys() if key.startswith(word)]\n",
    "            if len(partial_letter_digits) == 0:\n",
    "                break\n",
    "\n",
    "            if word in letter_digits.keys():\n",
    "                all_digits.append(letter_digits[word])\n",
    "                break\n",
    "            j += 1\n",
    "        i += 1\n",
    "    line_digits.append(all_digits)\n",
    "        \n",
    "totalsum = 0\n",
    "for d in line_digits:\n",
    "    totalsum += int(str(d[0]) + str(d[-1]))\n",
    "\n",
    "print(\"Solution 2 is:\")\n",
    "print(totalsum)\n",
    "        \n",
    "\n"
   ]
  }
 ],
 "metadata": {
  "kernelspec": {
   "display_name": ".venv",
   "language": "python",
   "name": "python3"
  },
  "language_info": {
   "codemirror_mode": {
    "name": "ipython",
    "version": 3
   },
   "file_extension": ".py",
   "mimetype": "text/x-python",
   "name": "python",
   "nbconvert_exporter": "python",
   "pygments_lexer": "ipython3",
   "version": "3.11.6"
  }
 },
 "nbformat": 4,
 "nbformat_minor": 2
}
