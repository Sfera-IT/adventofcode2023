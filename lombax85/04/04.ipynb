{
 "cells": [
  {
   "cell_type": "code",
   "execution_count": 1,
   "metadata": {},
   "outputs": [
    {
     "name": "stdout",
     "output_type": "stream",
     "text": [
      "Solution 1: 26218\n"
     ]
    }
   ],
   "source": [
    "file = open(\"./input.txt\")\n",
    "lines = file.readlines()\n",
    "\n",
    "totals = []\n",
    "for line in lines:\n",
    "    elements = line.replace(\"\\n\", \"\").split(\":\")[1].split(\"|\")\n",
    "\n",
    "    winning_numbers = list(filter(lambda x: (x != \"\"), elements[0].split(\" \")))\n",
    "    my_numbers = list(filter(lambda x: (x != \"\"), elements[1].split(\" \")))\n",
    "\n",
    "    winning = 0\n",
    "    for number in my_numbers:\n",
    "        if number in winning_numbers:\n",
    "            winning += 1\n",
    "    \n",
    "    if (winning >= 1):\n",
    "        totals.append(pow(2,(winning-1)))\n",
    "    \n",
    "print(\"Solution 1:\", sum(totals))"
   ]
  },
  {
   "cell_type": "code",
   "execution_count": 2,
   "metadata": {},
   "outputs": [
    {
     "name": "stdout",
     "output_type": "stream",
     "text": [
      "Solution 2: 9997537\n"
     ]
    }
   ],
   "source": [
    "\n",
    "\n",
    "totals = []\n",
    "\n",
    "for x in range(0,len(lines)):\n",
    "    totals.append([0,0])\n",
    "\n",
    "\n",
    "current = 0\n",
    "for line in lines:\n",
    "    elements = line.replace(\"\\n\", \"\").split(\":\")[1].split(\"|\")\n",
    "\n",
    "    winning_numbers = list(filter(lambda x: (x != \"\"), elements[0].split(\" \")))\n",
    "    my_numbers = list(filter(lambda x: (x != \"\"), elements[1].split(\" \")))\n",
    "\n",
    "    winning = 0\n",
    "    for number in my_numbers:\n",
    "        if number in winning_numbers:\n",
    "            winning += 1\n",
    "\n",
    "    totals[current][0] = winning\n",
    "    repeat = totals[current][1]\n",
    "\n",
    "    for i in range(0,winning+1):\n",
    "        totals[current+i][1] += 1\n",
    "\n",
    "    for r in range(0,repeat):\n",
    "        for i in range(1,winning+1):\n",
    "            totals[current+i][1] += 1\n",
    "\n",
    "    current += 1\n",
    "\n",
    "solution = sum(map(lambda x: x[1], totals))\n",
    "    \n",
    "print(\"Solution 2:\", solution)"
   ]
  },
  {
   "cell_type": "code",
   "execution_count": 3,
   "metadata": {},
   "outputs": [
    {
     "ename": "IndexError",
     "evalue": "list index out of range",
     "output_type": "error",
     "traceback": [
      "\u001b[0;31m---------------------------------------------------------------------------\u001b[0m",
      "\u001b[0;31mIndexError\u001b[0m                                Traceback (most recent call last)",
      "\u001b[1;32m/Users/lombardo/htdocs/adventofcode2023/lombax85/04/04.ipynb Cell 3\u001b[0m line \u001b[0;36m2\n\u001b[1;32m     <a href='vscode-notebook-cell:/Users/lombardo/htdocs/adventofcode2023/lombax85/04/04.ipynb#W2sZmlsZQ%3D%3D?line=22'>23</a>\u001b[0m \u001b[39mif\u001b[39;00m (winning \u001b[39m>\u001b[39m\u001b[39m=\u001b[39m \u001b[39m1\u001b[39m):\n\u001b[1;32m     <a href='vscode-notebook-cell:/Users/lombardo/htdocs/adventofcode2023/lombax85/04/04.ipynb#W2sZmlsZQ%3D%3D?line=23'>24</a>\u001b[0m     totals\u001b[39m.\u001b[39mappend(\u001b[39mpow\u001b[39m(\u001b[39m2\u001b[39m,(winning\u001b[39m-\u001b[39m\u001b[39m1\u001b[39m)))\n\u001b[0;32m---> <a href='vscode-notebook-cell:/Users/lombardo/htdocs/adventofcode2023/lombax85/04/04.ipynb#W2sZmlsZQ%3D%3D?line=25'>26</a>\u001b[0m totals2[current][\u001b[39m0\u001b[39m] \u001b[39m=\u001b[39m winning\n\u001b[1;32m     <a href='vscode-notebook-cell:/Users/lombardo/htdocs/adventofcode2023/lombax85/04/04.ipynb#W2sZmlsZQ%3D%3D?line=26'>27</a>\u001b[0m repeat \u001b[39m=\u001b[39m totals2[current][\u001b[39m1\u001b[39m]\n\u001b[1;32m     <a href='vscode-notebook-cell:/Users/lombardo/htdocs/adventofcode2023/lombax85/04/04.ipynb#W2sZmlsZQ%3D%3D?line=28'>29</a>\u001b[0m \u001b[39mfor\u001b[39;00m i \u001b[39min\u001b[39;00m \u001b[39mrange\u001b[39m(\u001b[39m0\u001b[39m,winning\u001b[39m+\u001b[39m\u001b[39m1\u001b[39m):\n",
      "\u001b[0;31mIndexError\u001b[0m: list index out of range"
     ]
    }
   ],
   "source": [
    "# both\n",
    "file = open(\"./input.txt\")\n",
    "lines = file.readlines()\n",
    "\n",
    "totals = []\n",
    "totals2 = []\n",
    "\n",
    "for x in range(0,len(lines)):\n",
    "    totals2.append([0,0])\n",
    "\n",
    "current = 0\n",
    "for line in lines:\n",
    "    elements = line.replace(\"\\n\", \"\").split(\":\")[1].split(\"|\")\n",
    "\n",
    "    winning_numbers = list(filter(lambda x: (x != \"\"), elements[0].split(\" \")))\n",
    "    my_numbers = list(filter(lambda x: (x != \"\"), elements[1].split(\" \")))\n",
    "\n",
    "    winning = 0\n",
    "    for number in my_numbers:\n",
    "        if number in winning_numbers:\n",
    "            winning += 1\n",
    "    \n",
    "    if (winning >= 1):\n",
    "        totals.append(pow(2,(winning-1)))\n",
    "    \n",
    "    totals2[current][0] = winning\n",
    "    repeat = totals2[current][1]\n",
    "\n",
    "    for i in range(0,winning+1):\n",
    "        totals2[current+i][1] += 1\n",
    "\n",
    "    for r in range(0,repeat):\n",
    "        for i in range(1,winning+1):\n",
    "            totals2[current+i][1] += 1\n",
    "    \n",
    "solution2 = sum(map(lambda x: x[1], totals2))\n",
    "print(\"Solution 1:\", sum(totals))\n",
    "print(\"Solution 2:\", solution2)"
   ]
  }
 ],
 "metadata": {
  "kernelspec": {
   "display_name": ".venv",
   "language": "python",
   "name": "python3"
  },
  "language_info": {
   "codemirror_mode": {
    "name": "ipython",
    "version": 3
   },
   "file_extension": ".py",
   "mimetype": "text/x-python",
   "name": "python",
   "nbconvert_exporter": "python",
   "pygments_lexer": "ipython3",
   "version": "3.11.6"
  }
 },
 "nbformat": 4,
 "nbformat_minor": 2
}
