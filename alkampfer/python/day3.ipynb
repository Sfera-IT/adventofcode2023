{
 "cells": [
  {
   "cell_type": "code",
   "execution_count": 3,
   "metadata": {},
   "outputs": [
    {
     "name": "stdout",
     "output_type": "stream",
     "text": [
      "RESULT: 509115\n"
     ]
    }
   ],
   "source": [
    "# try to scan the input file line by line\n",
    "\n",
    "file = open(\"./03.txt\")\n",
    "\n",
    "# read all the lines into a list\n",
    "lines = file.readlines()\n",
    "\n",
    "# trim all the lines and add a . to simplify algorithm\n",
    "lines = [line.strip() + \".\" for line in lines]\n",
    "\n",
    "# iterate over the lines with a for with an index\n",
    "linelen = len(lines[0])\n",
    "linenum = len(lines)\n",
    "\n",
    "def is_symbol(i, minp, maxp):\n",
    "    \"\"\"\n",
    "    Check if there is a symbol (non-digit and non-period character) in the given range of a line.\n",
    "    \n",
    "    Args:\n",
    "        i (int): The index of the line.\n",
    "        min (int): The minimum index of the range.\n",
    "        max (int): The maximum index of the range.\n",
    "    \n",
    "    Returns:\n",
    "        bool: True if a symbol is found, False otherwise.\n",
    "    \"\"\"\n",
    "    minp = max(0, minp)\n",
    "    maxp = min(maxp, linelen)\n",
    "    for j in range(minp, maxp):\n",
    "        c = lines[i][j]\n",
    "        if not c.isdigit() and not c == '.': \n",
    "            return True\n",
    "    return False\n",
    "\n",
    "def surrounds(i, start, end):\n",
    "\n",
    "    return (i > 0 and is_symbol(i-1, start - 1, end + 1)) or \\\n",
    "       (i < linenum - 1 and is_symbol(i + 1, start - 1, end + 1)) or \\\n",
    "       is_symbol(i, start - 1, end + 1)\n",
    "        \n",
    "allnum = []\n",
    "excluded = []\n",
    "for i in range(len(lines)):\n",
    "    curnum = \"\"\n",
    "    for j in range(linelen):\n",
    "        if lines[i][j].isdigit():\n",
    "            curnum += lines[i][j]\n",
    "        else:\n",
    "            len_token = len(curnum)\n",
    "            if len_token > 0:\n",
    "                if surrounds(i, j - len_token, j):\n",
    "                    allnum.append(int(curnum))\n",
    "                else:\n",
    "                    excluded.append(int(curnum))\n",
    "            curnum = \"\"\n",
    "\n",
    "# print (allnum)\n",
    "# print(\"----------------------excluded------------------------\")\n",
    "# print (excluded)\n",
    "\n",
    "# Now sum all the numbers\n",
    "print (f\"RESULT: {sum(allnum )}\")\n"
   ]
  }
 ],
 "metadata": {
  "kernelspec": {
   "display_name": "Python 3",
   "language": "python",
   "name": "python3"
  },
  "language_info": {
   "name": "python",
   "version": "3.10.11"
  }
 },
 "nbformat": 4,
 "nbformat_minor": 2
}
