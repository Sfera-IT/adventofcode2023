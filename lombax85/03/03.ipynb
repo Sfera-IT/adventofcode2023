{
 "cells": [
  {
   "cell_type": "code",
   "execution_count": 81,
   "metadata": {},
   "outputs": [
    {
     "name": "stdout",
     "output_type": "stream",
     "text": [
      "Solution 1 is 537732\n"
     ]
    }
   ],
   "source": [
    "file = open(\"./input.txt\")\n",
    "\n",
    "import re\n",
    "import numpy as np\n",
    "import math\n",
    "\n",
    "line_number = 0\n",
    "all_numbers = []\n",
    "all_symbols = []\n",
    "for line in file.readlines():\n",
    "    numbers = re.finditer(r\"([0-9]+)\", line)\n",
    "    symbols = re.finditer(r\"([^0-9\\.\\n])\", line)\n",
    "\n",
    "    numbers_with_positions = [(match.group(), match.start(), match.end()-1, line_number) for match in numbers]\n",
    "    symbols_with_positions = [(match.group(), match.start(), match.end()-1, line_number) for match in symbols]\n",
    "\n",
    "    all_numbers += numbers_with_positions\n",
    "    all_symbols += symbols_with_positions\n",
    "\n",
    "    line_number += 1\n",
    "\n",
    "\n",
    "def is_adjacent(a, b):\n",
    "    if a[3] == b[3] or a[3] == b[3] + 1 or a[3] == b[3] - 1:\n",
    "        if a[1] == b[1] or a[1] == b[1] + 1 or a[1] == b[1] - 1:\n",
    "            return True\n",
    "        if a[2] == b[2] or a[2] == b[2] + 1 or a[2] == b[2] - 1:\n",
    "            return True\n",
    "    return False\n",
    "        \n",
    "\n",
    "\n",
    "adjacent_numbers = []\n",
    "total = 0\n",
    "for number in all_numbers:\n",
    "    for symbol in all_symbols:\n",
    "        if is_adjacent(number, symbol):\n",
    "            adjacent_numbers.append((number, symbol))\n",
    "            total += int(number[0])\n",
    "\n",
    "print(\"Solution 1 is\", total)\n"
   ]
  },
  {
   "cell_type": "code",
   "execution_count": 82,
   "metadata": {},
   "outputs": [
    {
     "name": "stdout",
     "output_type": "stream",
     "text": [
      "Solution 2 is: 84883664\n"
     ]
    }
   ],
   "source": [
    "\n",
    "file = open(\"./input.txt\")\n",
    "line_number = 0\n",
    "all_numbers = []\n",
    "all_symbols = []\n",
    "for line in file.readlines():\n",
    "    numbers = re.finditer(r\"([0-9]+)\", line)\n",
    "    symbols = re.finditer(r\"([\\*])\", line)\n",
    "\n",
    "    numbers_with_positions = [(match.group(), match.start(), match.end()-1, line_number) for match in numbers]\n",
    "    symbols_with_positions = [(match.group(), match.start(), match.end()-1, line_number) for match in symbols]\n",
    "\n",
    "    for number in numbers_with_positions:\n",
    "        all_numbers.append(number)\n",
    "    for symbol in symbols_with_positions:\n",
    "        all_symbols.append(symbol)\n",
    "    line_number += 1\n",
    "\n",
    "possible_gears = {}\n",
    "for symbol in all_symbols:\n",
    "    # symbol hash, symbol position + line\n",
    "    symbol_key = str(symbol[1])+\"-\"+str(symbol[3])\n",
    "    if symbol_key not in possible_gears:\n",
    "        possible_gears[symbol_key] = []\n",
    "    for number in all_numbers:\n",
    "        if is_adjacent(symbol, number):\n",
    "            possible_gears[symbol_key].append(number[0])\n",
    "\n",
    "\n",
    "# get only the gears having at least two elements and calculate ratio\n",
    "gears = {key: math.prod(int(n) for n in value) for key, value in possible_gears.items() if len(value) >= 2}\n",
    "\n",
    "ratio = sum(gears.values())\n",
    "print(\"Solution 2 is:\", ratio)\n"
   ]
  }
 ],
 "metadata": {
  "kernelspec": {
   "display_name": ".venv",
   "language": "python",
   "name": "python3"
  },
  "language_info": {
   "codemirror_mode": {
    "name": "ipython",
    "version": 3
   },
   "file_extension": ".py",
   "mimetype": "text/x-python",
   "name": "python",
   "nbconvert_exporter": "python",
   "pygments_lexer": "ipython3",
   "version": "3.11.6"
  }
 },
 "nbformat": 4,
 "nbformat_minor": 2
}
